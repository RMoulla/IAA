{
  "cells": [
    {
      "cell_type": "markdown",
      "metadata": {
        "id": "view-in-github",
        "colab_type": "text"
      },
      "source": [
        "<a href=\"https://colab.research.google.com/github/RMoulla/IAA/blob/main/TP_Agents_Assurance_Maladie.ipynb\" target=\"_parent\"><img src=\"https://colab.research.google.com/assets/colab-badge.svg\" alt=\"Open In Colab\"/></a>"
      ]
    },
    {
      "cell_type": "markdown",
      "id": "943d6709",
      "metadata": {
        "id": "943d6709"
      },
      "source": [
        "# TP : Agent pour l'Assurance Maladie\n",
        "\n",
        "## Objectif\n",
        "Dans ce TP, vous allez construire et tester un **agent** qui aide un gestionnaire d'assurance maladie à :\n",
        "- Vérifier des demandes de remboursement\n",
        "- Détecter les anomalies\n",
        "- Proposer une décision (accepter / refuser / demander vérification humaine)\n",
        "- Expliquer sa décision en langage clair pour l'assuré\n",
        "\n",
        "Nous utiliserons :\n",
        "- Un fichier Excel de demandes fictives : `demandes_remboursement.xlsx`\n",
        "- Un fichier PDF des règles officielles : `regles_remboursement.pdf`\n"
      ]
    },
    {
      "cell_type": "markdown",
      "id": "4e031abe",
      "metadata": {
        "id": "4e031abe"
      },
      "source": [
        "## Prompt de l'agent\n",
        "\n",
        "Vous allez utiliser l'Agent OpenAI avec le prompt suivant (à copier dans l'interface) :\n",
        "\n",
        "```\n",
        "Tu es un agent de gestion de l’assurance maladie.\n",
        "Ton rôle est de traiter des demandes de remboursement selon les règles officielles suivantes :\n",
        "1. Consultation médecin généraliste : 25 € → remboursement à 70 % (17,50 €).\n",
        "2. Analyse biologique standard : 30 € → remboursement à 60 % (18 €).\n",
        "3. Acte non référencé : aucun remboursement.\n",
        "4. Plafond mensuel : maximum 3 consultations remboursables par assuré et par mois.\n",
        "5. Toute demande avec un montant incohérent ou une information manquante doit être envoyée en vérification humaine.\n",
        "6. Tu ne dois jamais donner d’avis médical.\n",
        "\n",
        "Format de sortie obligatoire (JSON structuré) :\n",
        "{\n",
        "  \"ID\": \"…\",\n",
        "  \"Decision\": \"Accepter / Refuser / Vérification humaine\",\n",
        "  \"Montant_rembourse\": \"… € ou 0\",\n",
        "  \"Explication_gestionnaire\": \"…\",\n",
        "  \"Lettre_assure\": \"…\"\n",
        "}\n",
        "```"
      ]
    }
  ],
  "metadata": {
    "language_info": {
      "name": "python"
    },
    "colab": {
      "provenance": [],
      "include_colab_link": true
    }
  },
  "nbformat": 4,
  "nbformat_minor": 5
}